{
 "cells": [
  {
   "attachments": {},
   "cell_type": "markdown",
   "metadata": {},
   "source": [
    "# Laboratorio 2\n",
    "\n",
    "## Mineria de Datos - Seccion 20\n",
    "\n",
    "### Grupo 3: Andrés de la Roca y Jun Woo Lee"
   ]
  },
  {
   "cell_type": "code",
   "execution_count": 43,
   "metadata": {},
   "outputs": [],
   "source": [
    "import pandas as pd\n",
    "import seaborn as sns\n",
    "import numpy as np\n",
    "from quickda.explore_data import *\n",
    "from quickda.clean_data import *\n",
    "from quickda.explore_numeric import *\n",
    "from quickda.explore_categoric import *\n",
    "from quickda.explore_numeric_categoric import *\n",
    "from quickda.explore_time_series import *"
   ]
  },
  {
   "cell_type": "code",
   "execution_count": 44,
   "metadata": {},
   "outputs": [],
   "source": [
    "data = pd.read_csv('breast-cancer-wisconsin.data', names=['id', 'clump_thickness', 'uniformity_cell_size', 'uniformity_cell_shape', 'marginal_adhesion', 'single_epithelial_cell_size', 'bare_nuclei',\n",
    "'bland_chromatin', 'normal_nucleoli', 'mitoses', 'class'])"
   ]
  },
  {
   "attachments": {},
   "cell_type": "markdown",
   "metadata": {},
   "source": [
    "## Limpieza de variables"
   ]
  },
  {
   "cell_type": "code",
   "execution_count": 45,
   "metadata": {},
   "outputs": [
    {
     "data": {
      "text/html": [
       "<div>\n",
       "<style scoped>\n",
       "    .dataframe tbody tr th:only-of-type {\n",
       "        vertical-align: middle;\n",
       "    }\n",
       "\n",
       "    .dataframe tbody tr th {\n",
       "        vertical-align: top;\n",
       "    }\n",
       "\n",
       "    .dataframe thead th {\n",
       "        text-align: right;\n",
       "    }\n",
       "</style>\n",
       "<table border=\"1\" class=\"dataframe\">\n",
       "  <thead>\n",
       "    <tr style=\"text-align: right;\">\n",
       "      <th></th>\n",
       "      <th>id</th>\n",
       "      <th>clump_thickness</th>\n",
       "      <th>uniformity_cell_size</th>\n",
       "      <th>uniformity_cell_shape</th>\n",
       "      <th>marginal_adhesion</th>\n",
       "      <th>single_epithelial_cell_size</th>\n",
       "      <th>bare_nuclei</th>\n",
       "      <th>bland_chromatin</th>\n",
       "      <th>normal_nucleoli</th>\n",
       "      <th>mitoses</th>\n",
       "      <th>class</th>\n",
       "    </tr>\n",
       "  </thead>\n",
       "  <tbody>\n",
       "    <tr>\n",
       "      <th>0</th>\n",
       "      <td>1000025</td>\n",
       "      <td>5</td>\n",
       "      <td>1</td>\n",
       "      <td>1</td>\n",
       "      <td>1</td>\n",
       "      <td>2</td>\n",
       "      <td>1</td>\n",
       "      <td>3</td>\n",
       "      <td>1</td>\n",
       "      <td>1</td>\n",
       "      <td>2</td>\n",
       "    </tr>\n",
       "    <tr>\n",
       "      <th>1</th>\n",
       "      <td>1002945</td>\n",
       "      <td>5</td>\n",
       "      <td>4</td>\n",
       "      <td>4</td>\n",
       "      <td>5</td>\n",
       "      <td>7</td>\n",
       "      <td>10</td>\n",
       "      <td>3</td>\n",
       "      <td>2</td>\n",
       "      <td>1</td>\n",
       "      <td>2</td>\n",
       "    </tr>\n",
       "    <tr>\n",
       "      <th>2</th>\n",
       "      <td>1015425</td>\n",
       "      <td>3</td>\n",
       "      <td>1</td>\n",
       "      <td>1</td>\n",
       "      <td>1</td>\n",
       "      <td>2</td>\n",
       "      <td>2</td>\n",
       "      <td>3</td>\n",
       "      <td>1</td>\n",
       "      <td>1</td>\n",
       "      <td>2</td>\n",
       "    </tr>\n",
       "    <tr>\n",
       "      <th>3</th>\n",
       "      <td>1016277</td>\n",
       "      <td>6</td>\n",
       "      <td>8</td>\n",
       "      <td>8</td>\n",
       "      <td>1</td>\n",
       "      <td>3</td>\n",
       "      <td>4</td>\n",
       "      <td>3</td>\n",
       "      <td>7</td>\n",
       "      <td>1</td>\n",
       "      <td>2</td>\n",
       "    </tr>\n",
       "    <tr>\n",
       "      <th>4</th>\n",
       "      <td>1017023</td>\n",
       "      <td>4</td>\n",
       "      <td>1</td>\n",
       "      <td>1</td>\n",
       "      <td>3</td>\n",
       "      <td>2</td>\n",
       "      <td>1</td>\n",
       "      <td>3</td>\n",
       "      <td>1</td>\n",
       "      <td>1</td>\n",
       "      <td>2</td>\n",
       "    </tr>\n",
       "    <tr>\n",
       "      <th>...</th>\n",
       "      <td>...</td>\n",
       "      <td>...</td>\n",
       "      <td>...</td>\n",
       "      <td>...</td>\n",
       "      <td>...</td>\n",
       "      <td>...</td>\n",
       "      <td>...</td>\n",
       "      <td>...</td>\n",
       "      <td>...</td>\n",
       "      <td>...</td>\n",
       "      <td>...</td>\n",
       "    </tr>\n",
       "    <tr>\n",
       "      <th>694</th>\n",
       "      <td>776715</td>\n",
       "      <td>3</td>\n",
       "      <td>1</td>\n",
       "      <td>1</td>\n",
       "      <td>1</td>\n",
       "      <td>3</td>\n",
       "      <td>2</td>\n",
       "      <td>1</td>\n",
       "      <td>1</td>\n",
       "      <td>1</td>\n",
       "      <td>2</td>\n",
       "    </tr>\n",
       "    <tr>\n",
       "      <th>695</th>\n",
       "      <td>841769</td>\n",
       "      <td>2</td>\n",
       "      <td>1</td>\n",
       "      <td>1</td>\n",
       "      <td>1</td>\n",
       "      <td>2</td>\n",
       "      <td>1</td>\n",
       "      <td>1</td>\n",
       "      <td>1</td>\n",
       "      <td>1</td>\n",
       "      <td>2</td>\n",
       "    </tr>\n",
       "    <tr>\n",
       "      <th>696</th>\n",
       "      <td>888820</td>\n",
       "      <td>5</td>\n",
       "      <td>10</td>\n",
       "      <td>10</td>\n",
       "      <td>3</td>\n",
       "      <td>7</td>\n",
       "      <td>3</td>\n",
       "      <td>8</td>\n",
       "      <td>10</td>\n",
       "      <td>2</td>\n",
       "      <td>4</td>\n",
       "    </tr>\n",
       "    <tr>\n",
       "      <th>697</th>\n",
       "      <td>897471</td>\n",
       "      <td>4</td>\n",
       "      <td>8</td>\n",
       "      <td>6</td>\n",
       "      <td>4</td>\n",
       "      <td>3</td>\n",
       "      <td>4</td>\n",
       "      <td>10</td>\n",
       "      <td>6</td>\n",
       "      <td>1</td>\n",
       "      <td>4</td>\n",
       "    </tr>\n",
       "    <tr>\n",
       "      <th>698</th>\n",
       "      <td>897471</td>\n",
       "      <td>4</td>\n",
       "      <td>8</td>\n",
       "      <td>8</td>\n",
       "      <td>5</td>\n",
       "      <td>4</td>\n",
       "      <td>5</td>\n",
       "      <td>10</td>\n",
       "      <td>4</td>\n",
       "      <td>1</td>\n",
       "      <td>4</td>\n",
       "    </tr>\n",
       "  </tbody>\n",
       "</table>\n",
       "<p>699 rows × 11 columns</p>\n",
       "</div>"
      ],
      "text/plain": [
       "          id  clump_thickness  ...  mitoses  class\n",
       "0    1000025                5  ...        1      2\n",
       "1    1002945                5  ...        1      2\n",
       "2    1015425                3  ...        1      2\n",
       "3    1016277                6  ...        1      2\n",
       "4    1017023                4  ...        1      2\n",
       "..       ...              ...  ...      ...    ...\n",
       "694   776715                3  ...        1      2\n",
       "695   841769                2  ...        1      2\n",
       "696   888820                5  ...        2      4\n",
       "697   897471                4  ...        1      4\n",
       "698   897471                4  ...        1      4\n",
       "\n",
       "[699 rows x 11 columns]"
      ]
     },
     "execution_count": 45,
     "metadata": {},
     "output_type": "execute_result"
    }
   ],
   "source": [
    "data"
   ]
  },
  {
   "attachments": {},
   "cell_type": "markdown",
   "metadata": {},
   "source": [
    "#### Limpieza de columna bare_nuclei"
   ]
  },
  {
   "cell_type": "code",
   "execution_count": 47,
   "metadata": {},
   "outputs": [
    {
     "data": {
      "text/plain": [
       "0       1.0\n",
       "1      10.0\n",
       "2       2.0\n",
       "3       4.0\n",
       "4       1.0\n",
       "       ... \n",
       "694     2.0\n",
       "695     1.0\n",
       "696     3.0\n",
       "697     4.0\n",
       "698     5.0\n",
       "Name: bare_nuclei, Length: 699, dtype: float64"
      ]
     },
     "execution_count": 47,
     "metadata": {},
     "output_type": "execute_result"
    }
   ],
   "source": [
    "# Se limpia la columna bare_nuclei, ya que los valores son string en lugar de int y tiene valores '?'\n",
    "bare_nucleiArray = []\n",
    "for item in data['bare_nuclei']:\n",
    "    if item == '?':\n",
    "        bare_nucleiArray.append(None)\n",
    "    else:\n",
    "        bare_nucleiArray.append(int(item))\n",
    "\n",
    "data['bare_nuclei'] = bare_nucleiArray\n",
    "\n",
    "data['bare_nuclei']        \n",
    "\n"
   ]
  },
  {
   "cell_type": "code",
   "execution_count": 48,
   "metadata": {},
   "outputs": [
    {
     "data": {
      "text/plain": [
       "id                              0\n",
       "clump_thickness                 0\n",
       "uniformity_cell_size            0\n",
       "uniformity_cell_shape           0\n",
       "marginal_adhesion               0\n",
       "single_epithelial_cell_size     0\n",
       "bare_nuclei                    16\n",
       "bland_chromatin                 0\n",
       "normal_nucleoli                 0\n",
       "mitoses                         0\n",
       "class                           0\n",
       "dtype: int64"
      ]
     },
     "execution_count": 48,
     "metadata": {},
     "output_type": "execute_result"
    }
   ],
   "source": [
    "nan_count = data.isnull().sum()\n",
    "\n",
    "nan_count #Visualizacion de cuantos valores null hay en la data"
   ]
  },
  {
   "attachments": {},
   "cell_type": "markdown",
   "metadata": {},
   "source": [
    "#### Limpieza de valores unicos segun id"
   ]
  },
  {
   "cell_type": "code",
   "execution_count": 52,
   "metadata": {},
   "outputs": [
    {
     "data": {
      "text/plain": [
       "id                             645\n",
       "clump_thickness                 10\n",
       "uniformity_cell_size            10\n",
       "uniformity_cell_shape           10\n",
       "marginal_adhesion               10\n",
       "single_epithelial_cell_size     10\n",
       "bare_nuclei                     10\n",
       "bland_chromatin                 10\n",
       "normal_nucleoli                 10\n",
       "mitoses                          9\n",
       "class                            2\n",
       "dtype: int64"
      ]
     },
     "execution_count": 52,
     "metadata": {},
     "output_type": "execute_result"
    }
   ],
   "source": [
    "data.nunique() #Visualizacion de valores unicos en la data\n",
    "\n",
    "#NOTA: el id por defecto deberia de ser 699 valores unicos, al tener solo 645\n",
    "#se infiere que hay valores duplicados que se deben de limpiar para obtener\n",
    "#datos mas precisos y sin sesgo."
   ]
  },
  {
   "cell_type": "code",
   "execution_count": 55,
   "metadata": {},
   "outputs": [],
   "source": [
    "#Eliminacion de filas duplicadas segun el id.\n",
    "\n",
    "data = data.drop_duplicates(subset=['id'], keep='first')\n"
   ]
  },
  {
   "cell_type": "code",
   "execution_count": 59,
   "metadata": {},
   "outputs": [
    {
     "data": {
      "text/plain": [
       "(645, 11)"
      ]
     },
     "execution_count": 59,
     "metadata": {},
     "output_type": "execute_result"
    }
   ],
   "source": [
    "data.shape #Comprobacion del cambio de forma del dataframe"
   ]
  },
  {
   "attachments": {},
   "cell_type": "markdown",
   "metadata": {},
   "source": [
    "#### Reemplazar valores faltantes"
   ]
  },
  {
   "cell_type": "code",
   "execution_count": 69,
   "metadata": {},
   "outputs": [
    {
     "data": {
      "text/plain": [
       "<AxesSubplot: >"
      ]
     },
     "execution_count": 69,
     "metadata": {},
     "output_type": "execute_result"
    },
    {
     "data": {
      "image/png": "[encoded data removed]",
      "text/plain": [
       "<Figure size 640x480 with 1 Axes>"
      ]
     },
     "metadata": {},
     "output_type": "display_data"
    }
   ],
   "source": [
    "sns.heatmap(data.isnull(), yticklabels = False, cbar = False, cmap='cividis')"
   ]
  },
  {
   "cell_type": "code",
   "execution_count": 70,
   "metadata": {},
   "outputs": [],
   "source": [
    "data = clean(data, columns=\"bare_nuclei\", method=\"fillmissing\")"
   ]
  },
  {
   "cell_type": "code",
   "execution_count": 74,
   "metadata": {},
   "outputs": [],
   "source": [
    "#Convert bare_nuclei column's values from float to int\n",
    "data['bare_nuclei'] = data['bare_nuclei'].astype(np.int64)"
   ]
  },
  {
   "cell_type": "code",
   "execution_count": 75,
   "metadata": {},
   "outputs": [
    {
     "data": {
      "text/plain": [
       "id                             int64\n",
       "clump_thickness                int64\n",
       "uniformity_cell_size           int64\n",
       "uniformity_cell_shape          int64\n",
       "marginal_adhesion              int64\n",
       "single_epithelial_cell_size    int64\n",
       "bare_nuclei                    int64\n",
       "bland_chromatin                int64\n",
       "normal_nucleoli                int64\n",
       "mitoses                        int64\n",
       "class                          int64\n",
       "dtype: object"
      ]
     },
     "execution_count": 75,
     "metadata": {},
     "output_type": "execute_result"
    }
   ],
   "source": [
    "data.dtypes"
   ]
  },
  {
   "cell_type": "code",
   "execution_count": 81,
   "metadata": {},
   "outputs": [
    {
     "data": {
      "text/plain": [
       "[array([ 1000025,  1002945,  1015425,  1016277,  1017023,  1017122,\n",
       "         1018099,  1018561,  1033078,  1035283,  1036172,  1041801,\n",
       "         1043999,  1044572,  1047630,  1048672,  1049815,  1050670,\n",
       "         1050718,  1054590,  1054593,  1056784,  1057013,  1059552,\n",
       "         1065726,  1066373,  1066979,  1067444,  1070935,  1071760,\n",
       "         1072179,  1074610,  1075123,  1079304,  1080185,  1081791,\n",
       "         1084584,  1091262,  1096800,  1099510,  1100524,  1102573,\n",
       "         1103608,  1103722,  1105257,  1105524,  1106095,  1106829,\n",
       "         1108370,  1108449,  1110102,  1110503,  1110524,  1111249,\n",
       "         1112209,  1113038,  1113483,  1113906,  1115282,  1115293,\n",
       "         1116116,  1116132,  1116192,  1116998,  1117152,  1118039,\n",
       "         1120559,  1121732,  1121919,  1123061,  1124651,  1125035,\n",
       "         1126417,  1131294,  1132347,  1133041,  1133136,  1136142,\n",
       "         1137156,  1143978,  1147044,  1147699,  1147748,  1148278,\n",
       "         1148873,  1152331,  1155546,  1156272,  1156948,  1157734,\n",
       "         1158247,  1160476,  1164066,  1165297,  1165790,  1165926,\n",
       "         1166630,  1166654,  1167439,  1167471,  1168359,  1168736,\n",
       "         1169049,  1170419,  1170420,  1171710,  1171795,  1171845,\n",
       "         1172152,  1173216,  1173235,  1173347,  1173509,  1173514,\n",
       "         1173681,  1174057,  1174131,  1174428,  1175937,  1176406,\n",
       "         1176881,  1177027,  1177399,  1177512,  1178580,  1179818,\n",
       "         1180194,  1180523,  1180831,  1181356,  1182404,  1182410,\n",
       "         1183240,  1183246,  1183516,  1183911,  1183983,  1184184,\n",
       "         1184241,  1184840,  1185609,  1185610,  1187457,  1187805,\n",
       "         1188472,  1189266,  1189286,  1190394,  1190485,  1192325,\n",
       "         1193091,  1193210,  1193683,  1196295,  1196915,  1197080,\n",
       "         1197270,  1197440,  1197510,  1197979,  1197993,  1198128,\n",
       "         1198641,  1199219,  1199731,  1199983,  1200772,  1200847,\n",
       "         1200892,  1200952,  1201834,  1201936,  1202125,  1202812,\n",
       "         1203096,  1204242,  1204898,  1205138,  1205579,  1206089,\n",
       "         1206695,  1206841,  1207986,  1208301,  1210963,  1211202,\n",
       "         1212232,  1212251,  1212422,  1213375,  1213383,  1214092,\n",
       "         1214556,  1214966,  1216694,  1216947,  1217051,  1217264,\n",
       "         1218105,  1218741,  1218860,  1219406,  1219525,  1219859,\n",
       "         1220330,  1221863,  1222047,  1222936,  1223282,  1223426,\n",
       "         1223793,  1223967,  1224329,  1225799,  1226012,  1226612,\n",
       "         1227210,  1227244,  1227481,  1228152,  1228311,  1230175,\n",
       "         1230688,  1231387,  1231706,  1232225,  1236043,  1241232,\n",
       "         1241559,  1241679,  1242364,  1243256,  1270479,  1276091,\n",
       "         1277018,   128059,  1285531,  1287775,   144888,   145447,\n",
       "          167528,   169356,   183913,   191250,   242970,   255644,\n",
       "          263538,   274137,   303213,   314428,   320675,   324427,\n",
       "          385103,   390840,   411453,   428903,   431495,   432809,\n",
       "          434518,   452264,   456282,   476903,   486283,   486662,\n",
       "          488173,   492268,   508234,   527363,   529329,   535331,\n",
       "          543558,   555977,   560680,   561477,   563649,   601265,\n",
       "          606140,   606722,   616240,    61634,   625201,    63375,\n",
       "          635844,   636130,   640744,   646904,   653777,   659642,\n",
       "          666090,   666942,   667204,   673637,   684955,   688033,\n",
       "          691628,   693702,   704097,   704168,   706426,   709287,\n",
       "          718641,   721482,   730881,   733639,   733823,   740492,\n",
       "          743348,   752904,   756136,   760001,   760239,    76389,\n",
       "          764974,   770066,   785208,   785615,   792744,   797327,\n",
       "          798429,   806423,   809912,   810104,   814265,   814911,\n",
       "          822829,   826923,   830690,   831268,   832226,   832567,\n",
       "          836433,   837082,   846832,   850831,   855524,   857774,\n",
       "          859164,   859350,   866325,   873549,   877291,   877943,\n",
       "          888169,   888523,   896404,   897172,    95719,   160296,\n",
       "          342245,   428598,   492561,   493452,   521441,   636437,\n",
       "          640712,   654244,   657753,   685977,   805448,   846423,\n",
       "         1002504,  1022257,  1026122,  1071084,  1080233,  1114570,\n",
       "         1116715,  1131411,  1151734,  1156017,  1158405,  1168278,\n",
       "         1176187,  1196263,  1196475,  1206314,  1211265,  1213784,\n",
       "         1223003,  1223306,  1223543,  1229929,  1231853,  1234554,\n",
       "         1236837,  1237674,  1238021,  1238464,  1238633,  1238915,\n",
       "         1238948,  1239232,  1239347,  1239967,  1240337,  1253505,\n",
       "         1255384,  1257200,  1257648,  1257815,  1257938,  1258549,\n",
       "         1258556,  1266154,  1272039,  1277629,  1293439,  1294562,\n",
       "         1295186,   527337,   558538,   566509,   608157,   677910,\n",
       "          734111,   780555,   827627,  1049837,  1058849,  1193544,\n",
       "         1201870,  1202253,  1227081,  1230994,  1238410,  1246562,\n",
       "         1257470,  1259008,  1266124,  1267898,  1268313,  1268804,\n",
       "         1280258,  1293966,  1296572,  1298416,  1299596,  1181685,\n",
       "         1211594,  1238777,  1257608,  1269574,  1277145,  1287282,\n",
       "         1296025,  1296263,  1296593,  1299161,  1301945,  1302428,\n",
       "         1318169,   474162,   787451,  1002025,  1070522,  1073960,\n",
       "         1076352,  1084139,  1119189,  1133991,  1142706,  1155967,\n",
       "         1170945,  1181567,  1204558,  1217952,  1224565,  1238186,\n",
       "         1253917,  1265899,  1268766,  1277268,  1286943,  1295508,\n",
       "         1297327,  1297522,  1298360,  1299924,  1299994,  1304595,\n",
       "         1306282,  1313325,  1320077,  1320304,  1330439,   333093,\n",
       "          369565,   412300,   672113,   749653,   769612,   807657,\n",
       "         8233704,   837480,   867392,   869828,  1043068,  1056171,\n",
       "         1061990,  1113061,  1135090,  1145420,  1158157,  1171578,\n",
       "         1174841,  1184586,  1186936,  1197527,  1222464,  1240603,\n",
       "         1241035,  1287971,  1289391,  1306339,  1313658,  1313982,\n",
       "         1321264,  1321321,  1321348,  1321931,  1321942,  1328331,\n",
       "         1328755,  1331405,  1331412,  1333104,  1334071,  1343068,\n",
       "         1343374,  1344121,   142932,   183936,   324382,   378275,\n",
       "          690557,   695091,   695219,   824249,   871549,   878358,\n",
       "         1107684,  1115762,  1217717,  1239420,  1254538,  1261751,\n",
       "         1268275,  1272166,  1294261,  1295529,  1298484,  1311875,\n",
       "         1315506,  1320141,  1325309,  1333063,  1333495,  1334659,\n",
       "         1336798,  1344449,  1350568,  1352663,   188336,   352431,\n",
       "          353098,   557583,   636375,   736150,   803531,  1016634,\n",
       "         1031608,  1041043,  1042252,  1057067,  1073836,  1083817,\n",
       "         1096352,  1140597,  1149548,  1174009,  1183596,  1190386,\n",
       "         1190546,  1213273,  1218982,  1225382,  1235807,  1253955,\n",
       "         1257366,  1260659,  1268952,  1275807,  1277792,  1285722,\n",
       "         1288608,  1290203,  1294413,  1303489,  1311033,  1311108,\n",
       "         1315807,  1318671,  1319609,  1323477,  1324572,  1324681,\n",
       "         1325159,  1326892,  1330361,  1333877,  1334015,  1334667,\n",
       "         1339781, 13454352,  1345452,  1345593,  1347749,  1347943,\n",
       "         1348851,  1350319,  1350423,  1352848,  1353092,  1354840,\n",
       "         1355260,  1365075,  1365328,  1368267,  1368273,  1368882,\n",
       "         1369821,  1371026,  1371920,   466906,   534555,   536708,\n",
       "          566346,   603148,   654546,   714039,   763235,   776715,\n",
       "          841769,   888820,   897471], dtype=int64),\n",
       " array([ 5,  3,  6,  4,  8,  1,  2,  7, 10,  9], dtype=int64),\n",
       " array([ 1,  4,  8, 10,  3,  7,  5,  2,  6,  9], dtype=int64),\n",
       " array([ 1,  4,  8, 10,  2,  3,  5,  6,  7,  9], dtype=int64),\n",
       " array([ 1,  5,  3,  8, 10,  4,  6,  2,  9,  7], dtype=int64),\n",
       " array([ 2,  7,  3,  1,  6,  4,  5,  8, 10,  9], dtype=int64),\n",
       " array([ 1, 10,  2,  4,  3,  9,  7,  5,  8,  6], dtype=int64),\n",
       " array([ 3,  9,  1,  2,  4,  5,  7,  8,  6, 10], dtype=int64),\n",
       " array([ 1,  2,  7,  4,  5,  3, 10,  6,  9,  8], dtype=int64),\n",
       " array([ 1,  5,  4,  2,  3,  7, 10,  8,  6], dtype=int64),\n",
       " array([2, 4], dtype=int64)]"
      ]
     },
     "execution_count": 81,
     "metadata": {},
     "output_type": "execute_result"
    }
   ],
   "source": [
    "collection = []\n",
    "for i in data:\n",
    "    collection.append(data[i].unique())\n",
    "\n",
    "collection"
   ]
  },
  {
   "attachments": {},
   "cell_type": "markdown",
   "metadata": {},
   "source": [
    "#### Limpieza de variables que no se utilizaran"
   ]
  },
  {
   "cell_type": "code",
   "execution_count": null,
   "metadata": {},
   "outputs": [],
   "source": [
    "# Las variables que se limpiaran a continuacion son las que no se utilizaran\n",
    "# debido a no ser relevantes en el objetivo de predecir si el tumor\n",
    "# es benigno o maligno en el paciente.\n",
    "# (Cada uno contara con su debida justificacion)"
   ]
  },
  {
   "attachments": {},
   "cell_type": "markdown",
   "metadata": {},
   "source": [
    "## Desarrollo de modelo de clasificacion"
   ]
  },
  {
   "attachments": {},
   "cell_type": "markdown",
   "metadata": {},
   "source": [
    "### Regresion Logistica"
   ]
  },
  {
   "cell_type": "code",
   "execution_count": 51,
   "metadata": {},
   "outputs": [],
   "source": [
    "x = data.iloc[:, :-1].values #Valores varios\n",
    "y = data.iloc[:, -1].values #Class (Beningo o Maligno)"
   ]
  },
  {
   "attachments": {},
   "cell_type": "markdown",
   "metadata": {},
   "source": [
    "### Regresion K-NN"
   ]
  }
 ],
 "metadata": {
  "kernelspec": {
   "display_name": "venv",
   "language": "python",
   "name": "python3"
  },
  "language_info": {
   "codemirror_mode": {
    "name": "ipython",
    "version": 3
   },
   "file_extension": ".py",
   "mimetype": "text/x-python",
   "name": "python",
   "nbconvert_exporter": "python",
   "pygments_lexer": "ipython3",
   "version": "3.10.10"
  },
  "orig_nbformat": 4,
  "vscode": {
   "interpreter": {
    "hash": "229eca9bddb63e8298c5c7a1886d99458f3c1dc18f1dbb1b093b973a36bb506a"
   }
  }
 },
 "nbformat": 4,
 "nbformat_minor": 2
}
